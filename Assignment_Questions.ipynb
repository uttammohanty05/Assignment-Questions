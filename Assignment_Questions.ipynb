{
  "nbformat": 4,
  "nbformat_minor": 0,
  "metadata": {
    "colab": {
      "provenance": []
    },
    "kernelspec": {
      "name": "python3",
      "display_name": "Python 3"
    },
    "language_info": {
      "name": "python"
    }
  },
  "cells": [
    {
      "cell_type": "markdown",
      "source": [
        "# Python Basics Questions"
      ],
      "metadata": {
        "id": "rHtquszOggK8"
      }
    },
    {
      "cell_type": "markdown",
      "source": [
        "01. What is Python, and why is it popular ?\n",
        "\n",
        "Ans:- Python is a high-level, interpreted programming language known for its simplicity and readability. It’s popular because it's easy to learn, has a wide range of applications (like web development, data science, automation, and AI), and has a large supportive community with extensive libraries and frameworks. Its clean syntax and versatility make it a top choice for both beginners and experienced developers.\n"
      ],
      "metadata": {
        "id": "CJxLDPqUgtYr"
      }
    },
    {
      "cell_type": "markdown",
      "source": [
        "02. What is an interpreter in Python?\n",
        "\n",
        "Ans:- An interpreter in Python is a program that executes Python code line by line, translating it into machine language that the computer can understand and execute. Unlike compiled languages, which convert the entire code into machine language at once, an interpreter does this process on the fly, making Python easier to test and debug."
      ],
      "metadata": {
        "id": "UwN_l1OghC26"
      }
    },
    {
      "cell_type": "markdown",
      "source": [
        "03.  What are pre-defined keywords in Python ?\n",
        "\n",
        "Ans:- Pre-defined keywords in Python are reserved words that have special meaning and cannot be used as identifiers (like variable names). These keywords are part of the Python language syntax and control the flow, structure, and behavior of the program. Examples include `if`, `else`, `while`, `for`, `def`, `class`, `import`, and `try`."
      ],
      "metadata": {
        "id": "7VjfFT-YhQ0b"
      }
    },
    {
      "cell_type": "markdown",
      "source": [
        "04. Can keywords be used as variable names ?\n",
        "\n",
        "Ans:- No, keywords cannot be used as variable names in Python. Since they have predefined meanings and are essential to the language’s syntax, using them as variable names will result in a syntax error."
      ],
      "metadata": {
        "id": "XogfU7eZhcQK"
      }
    },
    {
      "cell_type": "markdown",
      "source": [
        "05. What is mutability in Python ?\n",
        "\n",
        "Ans:- Mutability in Python refers to whether an object's state or value can be changed after it is created.\n",
        "\n",
        "- **Mutable objects** can be modified after creation (e.g., lists, dictionaries, sets).\n",
        "- **Immutable objects** cannot be changed once created (e.g., strings, tuples, integers).\n",
        "\n",
        "For example, you can add or remove elements in a list (mutable), but you can't modify the characters in a string (immutable)."
      ],
      "metadata": {
        "id": "v-6VO15OhnFq"
      }
    },
    {
      "cell_type": "markdown",
      "source": [
        "06. Why are lists mutable, but tuples are immutable ?\n",
        "\n",
        "ANs:- Lists are mutable in Python because they are designed to allow dynamic modification, such as adding, removing, or changing elements, making them flexible for situations where the data may need to change over time.\n",
        "\n",
        "Tuples, on the other hand, are immutable to provide more stability and efficiency. Once a tuple is created, its contents cannot be modified, which makes it useful for situations where the data should remain constant and unchanged. This immutability also allows tuples to be used as keys in dictionaries, whereas lists cannot be.\n",
        "\n"
      ],
      "metadata": {
        "id": "m2Yq8TgPhwQS"
      }
    },
    {
      "cell_type": "markdown",
      "source": [
        "07. What is the difference between “==” and “is” operators in Python ?\n",
        "\n",
        "Ans:- The `==` operator checks if the **values** of two objects are equal, while the `is` operator checks if two objects **refer to the same memory location** (i.e., if they are the same object)."
      ],
      "metadata": {
        "id": "bIRXJr7hh8Qi"
      }
    },
    {
      "cell_type": "markdown",
      "source": [
        "08. What are logical operators in Python ?\n",
        "\n",
        "Ans:- Logical operators in Python are:\n",
        "\n",
        "- **`and`**: Returns `True` if both conditions are true.\n",
        "- **`or`**: Returns `True` if at least one condition is true.\n",
        "- **`not`**: Reverses the boolean value (turns `True` to `False`, and vice versa)."
      ],
      "metadata": {
        "id": "WVXEt52GiNfy"
      }
    },
    {
      "cell_type": "markdown",
      "source": [
        "09. What is type casting in Python ?\n",
        "\n",
        "Ans:- Type casting in Python is the process of converting one data type into another. You can use built-in functions like `int()`, `float()`, `str()`, etc., to convert between types.\n",
        "\n",
        "For example:\n",
        "- `int(\"10\")` converts a string to an integer.\n",
        "- `float(5)` converts an integer to a float."
      ],
      "metadata": {
        "id": "hfJRxtZ7ihEJ"
      }
    },
    {
      "cell_type": "markdown",
      "source": [
        "10. What is the difference between implicit and explicit type casting ?\n",
        "\n",
        "Ans:- **Implicit type casting** is automatically done by Python when it converts a lower data type to a higher one (e.g., int to float) without the programmer's intervention.\n",
        "\n",
        "**Explicit type casting** requires the programmer to manually convert one data type to another using functions like `int()`, `float()`, or `str()`."
      ],
      "metadata": {
        "id": "m0_pe1l3ixkR"
      }
    },
    {
      "cell_type": "markdown",
      "source": [
        "11. What is the purpose of conditional statements in Python ?\n",
        "\n",
        "Ans:- Conditional statements in Python are used to execute specific blocks of code based on whether a condition is `True` or `False`. They allow for decision-making in a program.\n",
        "\n",
        "Examples:\n",
        "- **`if`**: Executes code if the condition is true.\n",
        "- **`elif`**: Checks another condition if the previous `if` is false.\n",
        "- **`else`**: Executes code if all previous conditions are false."
      ],
      "metadata": {
        "id": "SVOGtskOi9so"
      }
    },
    {
      "cell_type": "markdown",
      "source": [
        "12. How does the elif statement work ?\n",
        "\n",
        "Ans:- The elif (else if) statement in Python checks another condition if the previous if or elif conditions are false. It allows you to test multiple conditions in sequence.\n",
        "\n",
        "Example:\n",
        "\n",
        "if condition1:\n",
        "    # Code for condition1\n",
        "elif condition2:\n",
        "    # Code for condition2\n",
        "else:\n",
        "    # Code if all conditions are false\n"
      ],
      "metadata": {
        "id": "SEh0a8PWjHuZ"
      }
    },
    {
      "cell_type": "markdown",
      "source": [
        "13. What is the difference between for and while loops ?\n",
        "\n",
        "Ans:- - **`for` loop**: Used for iterating over a sequence (like a list, tuple, or range) a fixed number of times.\n",
        "  ```python\n",
        "  for i in range(5):  # Loops 5 times\n",
        "      print(i)\n",
        "  ```\n",
        "\n",
        "- **`while` loop**: Runs as long as a condition is `True` and continues until the condition becomes `False`.\n",
        "  ```python\n",
        "  i = 0\n",
        "  while i < 5:  # Loops while i is less than 5\n",
        "      print(i)\n",
        "      i += 1\n",
        "  ```\n",
        "\n",
        "In short, `for` is used for a set number of iterations, while `while` runs based on a condition."
      ],
      "metadata": {
        "id": "Te9BiERVjZiQ"
      }
    },
    {
      "cell_type": "markdown",
      "source": [
        "14. Describe a scenario where a while loop is more suitable than a for loop.\n",
        "\n",
        "Ans:- A **while loop** is more suitable when you don't know the number of iterations in advance and need to repeat a task until a condition is met.\n",
        "\n",
        "**Example**:\n",
        "\n",
        "            Continuously asking a user for input until they enter a valid response:\n",
        "```python\n",
        "user_input = \"\"\n",
        "while user_input != \"quit\":\n",
        "    user_input = input(\"Enter something (type 'quit' to stop): \")\n",
        "```\n",
        "Here, the number of iterations is unknown, making a `while` loop ideal."
      ],
      "metadata": {
        "id": "nAoVcRFXjplI"
      }
    },
    {
      "cell_type": "markdown",
      "source": [
        "# A **while loop** is more suitable when you don't know the number of iterations in advance and need to repeat a task until a condition is met.\n",
        "\n",
        "**Example**: Continuously asking a user for input until they enter a valid response:\n",
        "```python\n",
        "user_input = \"\"\n",
        "while user_input != \"quit\":\n",
        "    user_input = input(\"Enter something (type 'quit' to stop): \")\n",
        "```\n",
        "Here, the number of iterations is unknown, making a `while` loop ideal."
      ],
      "metadata": {
        "id": "PnF0RueQj9-X"
      }
    },
    {
      "cell_type": "markdown",
      "source": [
        "# Practical Questions"
      ],
      "metadata": {
        "id": "XAY-VkK0mQ6k"
      }
    },
    {
      "cell_type": "markdown",
      "source": [
        "01. Write a Python program to print \"Hello, World!"
      ],
      "metadata": {
        "id": "iYLbMeismpBc"
      }
    },
    {
      "cell_type": "code",
      "execution_count": 1,
      "metadata": {
        "id": "VfR8YoaHgc4g",
        "colab": {
          "base_uri": "https://localhost:8080/"
        },
        "outputId": "a5f1f69c-340e-4a14-db85-8d12d591e60a"
      },
      "outputs": [
        {
          "output_type": "stream",
          "name": "stdout",
          "text": [
            "Hello, World!\n"
          ]
        }
      ],
      "source": [
        "print(\"Hello, World!\")\n"
      ]
    },
    {
      "cell_type": "markdown",
      "source": [
        "02. Write a Python program that displays your name and age?"
      ],
      "metadata": {
        "id": "J6zmoQ1gn3cj"
      }
    },
    {
      "cell_type": "code",
      "source": [
        "# Define your name and age\n",
        "name = \"Uttam\"\n",
        "age = 21\n",
        "\n",
        "# Display the information\n",
        "print(\"Name:\", name)\n",
        "print(\"Age:\", age)\n"
      ],
      "metadata": {
        "colab": {
          "base_uri": "https://localhost:8080/"
        },
        "id": "uOPnWruGnueM",
        "outputId": "e9f123b0-3956-4166-b666-05951f3c7e3f"
      },
      "execution_count": 2,
      "outputs": [
        {
          "output_type": "stream",
          "name": "stdout",
          "text": [
            "Name: Uttam\n",
            "Age: 21\n"
          ]
        }
      ]
    },
    {
      "cell_type": "markdown",
      "source": [
        "03. Write code to print all the pre-defined keywords in Python using the keyword library."
      ],
      "metadata": {
        "id": "5EFg2PVKofNq"
      }
    },
    {
      "cell_type": "code",
      "source": [
        "import keyword\n",
        "\n",
        "# Print all predefined keywords in Python\n",
        "print(\"List of Python's predefined keywords:\")\n",
        "print(keyword.kwlist)\n"
      ],
      "metadata": {
        "colab": {
          "base_uri": "https://localhost:8080/"
        },
        "id": "PaX712cLodTz",
        "outputId": "d6a46333-b0e8-4b8f-e0b9-bc3ca7f23e50"
      },
      "execution_count": 3,
      "outputs": [
        {
          "output_type": "stream",
          "name": "stdout",
          "text": [
            "List of Python's predefined keywords:\n",
            "['False', 'None', 'True', 'and', 'as', 'assert', 'async', 'await', 'break', 'class', 'continue', 'def', 'del', 'elif', 'else', 'except', 'finally', 'for', 'from', 'global', 'if', 'import', 'in', 'is', 'lambda', 'nonlocal', 'not', 'or', 'pass', 'raise', 'return', 'try', 'while', 'with', 'yield']\n"
          ]
        }
      ]
    },
    {
      "cell_type": "markdown",
      "source": [
        "04. Write a program that checks if a given word is a Python keyword."
      ],
      "metadata": {
        "id": "lRCSTgm4owOK"
      }
    },
    {
      "cell_type": "code",
      "source": [
        "import keyword\n",
        "\n",
        "# Word to check\n",
        "word = \"Uttam\"\n",
        "\n",
        "# Check if the word is a Python keyword and print the result\n",
        "if word in keyword.kwlist:\n",
        "    print(f\"'{word}' is a Python keyword.\")\n",
        "else:\n",
        "    print(f\"'{word}' is not a Python keyword.\")\n",
        "\n",
        "\n"
      ],
      "metadata": {
        "colab": {
          "base_uri": "https://localhost:8080/"
        },
        "id": "y-YPS8wEopja",
        "outputId": "f5603273-ba85-417e-8a5e-a42d6a4a78f8"
      },
      "execution_count": 7,
      "outputs": [
        {
          "output_type": "stream",
          "name": "stdout",
          "text": [
            "'Uttam' is not a Python keyword.\n"
          ]
        }
      ]
    },
    {
      "cell_type": "markdown",
      "source": [
        "05.  Create a list and tuple in Python, and demonstrate how attempting to change an element works differently\n",
        "for each."
      ],
      "metadata": {
        "id": "ZHdoJA2Fr1B3"
      }
    },
    {
      "cell_type": "code",
      "source": [
        "# Create a list and a tuple\n",
        "my_list = [10, 20, 30, 40]\n",
        "my_tuple = (10, 20, 30, 40)\n",
        "\n",
        "# Attempt to change an element in the list\n",
        "print(\"Original list:\", my_list)\n",
        "my_list[1] = 99  # Changing an element in the list\n",
        "print(\"Updated list:\", my_list)\n",
        "\n",
        "# Attempt to change an element in the tuple\n",
        "print(\"\\nOriginal tuple:\", my_tuple)\n",
        "try:\n",
        "    my_tuple[1] = 99  # Attempting to change an element in the tuple\n",
        "except TypeError as e:\n",
        "    print(\"Error:\", e)\n"
      ],
      "metadata": {
        "colab": {
          "base_uri": "https://localhost:8080/"
        },
        "id": "ANEU-8Zvo6O6",
        "outputId": "459c22e7-666f-4672-fd55-5837508da1bc"
      },
      "execution_count": 8,
      "outputs": [
        {
          "output_type": "stream",
          "name": "stdout",
          "text": [
            "Original list: [10, 20, 30, 40]\n",
            "Updated list: [10, 99, 30, 40]\n",
            "\n",
            "Original tuple: (10, 20, 30, 40)\n",
            "Error: 'tuple' object does not support item assignment\n"
          ]
        }
      ]
    },
    {
      "cell_type": "markdown",
      "source": [
        "06. Write a function to demonstrate the behavior of mutable and immutable arguments."
      ],
      "metadata": {
        "id": "KZv-m74xsGhu"
      }
    },
    {
      "cell_type": "code",
      "source": [
        "def demonstrate_mutable_immutable(mutable_arg, immutable_arg):\n",
        "    # Modifying the mutable argument (list)\n",
        "    mutable_arg.append(100)\n",
        "    print(\"Modified mutable argument:\", mutable_arg)\n",
        "\n",
        "    # Modifying the immutable argument (integer)\n",
        "    immutable_arg = 200\n",
        "    print(\"Modified immutable argument:\", immutable_arg)\n",
        "\n",
        "\n",
        "# Test with mutable and immutable arguments\n",
        "mutable_example = [10, 20, 30]  # List (mutable)\n",
        "immutable_example = 50  # Integer (immutable)\n",
        "\n",
        "# Call the function with both mutable and immutable arguments\n",
        "demonstrate_mutable_immutable(mutable_example, immutable_example)\n",
        "\n",
        "# Print the original objects after the function call\n",
        "print(\"\\nOriginal mutable object after function call:\", mutable_example)\n",
        "print(\"Original immutable object after function call:\", immutable_example)\n"
      ],
      "metadata": {
        "colab": {
          "base_uri": "https://localhost:8080/"
        },
        "id": "dKFhzKutr-eX",
        "outputId": "504fd6db-0386-4a47-d95e-da719a38ab49"
      },
      "execution_count": 9,
      "outputs": [
        {
          "output_type": "stream",
          "name": "stdout",
          "text": [
            "Modified mutable argument: [10, 20, 30, 100]\n",
            "Modified immutable argument: 200\n",
            "\n",
            "Original mutable object after function call: [10, 20, 30, 100]\n",
            "Original immutable object after function call: 50\n"
          ]
        }
      ]
    },
    {
      "cell_type": "markdown",
      "source": [
        "07. Write a program that performs basic arithmetic operations on two user-input numbers."
      ],
      "metadata": {
        "id": "_38G9LcfsTsv"
      }
    },
    {
      "cell_type": "code",
      "source": [
        "# Get two numbers from the user\n",
        "num1 = float(input(\"Enter first number: \"))\n",
        "num2 = float(input(\"Enter second number: \"))\n",
        "\n",
        "# Perform and display the arithmetic operations\n",
        "print(\"Addition:\", num1 + num2)\n",
        "print(\"Subtraction:\", num1 - num2)\n",
        "print(\"Multiplication:\", num1 * num2)\n",
        "print(\"Division:\", num1 / num2 if num2 != 0 else \"undefined (cannot divide by zero)\")\n"
      ],
      "metadata": {
        "colab": {
          "base_uri": "https://localhost:8080/"
        },
        "id": "z8l_q7pJsPGm",
        "outputId": "9d3acbbd-38c5-4574-fa60-4b0215556947"
      },
      "execution_count": 12,
      "outputs": [
        {
          "output_type": "stream",
          "name": "stdout",
          "text": [
            "Enter first number: 1\n",
            "Enter second number: 2\n",
            "Addition: 3.0\n",
            "Subtraction: -1.0\n",
            "Multiplication: 2.0\n",
            "Division: 0.5\n"
          ]
        }
      ]
    },
    {
      "cell_type": "markdown",
      "source": [
        "08.  Write a program to demonstrate the use of logical operators."
      ],
      "metadata": {
        "id": "wNXS1CLBsqsf"
      }
    },
    {
      "cell_type": "code",
      "source": [
        "# Define two boolean variables\n",
        "a = True\n",
        "b = False\n",
        "\n",
        "# Demonstrate logical operators\n",
        "print(\"a and b:\", a and b)  # Returns True only if both a and b are True\n",
        "print(\"a or b:\", a or b)    # Returns True if at least one of a or b is True\n",
        "print(\"not a:\", not a)      # Reverses the boolean value of a\n"
      ],
      "metadata": {
        "colab": {
          "base_uri": "https://localhost:8080/"
        },
        "id": "zaUr5wv1sfVu",
        "outputId": "c616e6c0-c6cb-45b9-afd7-b46869dcdf43"
      },
      "execution_count": 13,
      "outputs": [
        {
          "output_type": "stream",
          "name": "stdout",
          "text": [
            "a and b: False\n",
            "a or b: True\n",
            "not a: False\n"
          ]
        }
      ]
    },
    {
      "cell_type": "markdown",
      "source": [
        "09. Write a Python program to convert user input from string to integer, float, and boolean types."
      ],
      "metadata": {
        "id": "8A9QQMGvs3_2"
      }
    },
    {
      "cell_type": "code",
      "source": [
        "# Get user input as a string\n",
        "user_input = input(\"Enter a value: \")\n",
        "\n",
        "# Convert to integer, float, and boolean\n",
        "integer_value = int(user_input)\n",
        "float_value = float(user_input)\n",
        "boolean_value = user_input.lower() in ['true', '1', 't', 'y', 'yes']\n",
        "\n",
        "# Display the results\n",
        "print(\"Integer:\", integer_value)\n",
        "print(\"Float:\", float_value)\n",
        "print(\"Boolean:\", boolean_value)\n"
      ],
      "metadata": {
        "colab": {
          "base_uri": "https://localhost:8080/"
        },
        "id": "aPBpxBGes3DX",
        "outputId": "13872c5a-aeaf-4dac-d1c9-2146f08027a2"
      },
      "execution_count": 14,
      "outputs": [
        {
          "output_type": "stream",
          "name": "stdout",
          "text": [
            "Enter a value: 2\n",
            "Integer: 2\n",
            "Float: 2.0\n",
            "Boolean: False\n"
          ]
        }
      ]
    },
    {
      "cell_type": "markdown",
      "source": [
        "10. Write code to demonstrate type casting with list elements."
      ],
      "metadata": {
        "id": "rlnOvFTetedV"
      }
    },
    {
      "cell_type": "code",
      "source": [
        "# List with different types\n",
        "data = ['10', '3.14', 'True']\n",
        "\n",
        "# Convert each element to int, float, and bool\n",
        "int_data = [int(x) if x.isdigit() else 0 for x in data]\n",
        "float_data = [float(x) if x.replace('.', '', 1).isdigit() else 0.0 for x in data]\n",
        "bool_data = [x.lower() in ['true', '1', 'yes'] for x in data]\n",
        "\n",
        "print(f\"Integer list: {int_data}\")\n",
        "print(f\"Float list: {float_data}\")\n",
        "print(f\"Boolean list: {bool_data}\")\n",
        "\n"
      ],
      "metadata": {
        "colab": {
          "base_uri": "https://localhost:8080/"
        },
        "id": "8XHuCGM0tCC1",
        "outputId": "98b63011-7cbc-4cbf-b363-d3781176b893"
      },
      "execution_count": 16,
      "outputs": [
        {
          "output_type": "stream",
          "name": "stdout",
          "text": [
            "Integer list: [10, 0, 0]\n",
            "Float list: [10.0, 3.14, 0.0]\n",
            "Boolean list: [False, False, True]\n"
          ]
        }
      ]
    },
    {
      "cell_type": "markdown",
      "source": [
        "11. Write a program that checks if a number is positive, negative, or zero."
      ],
      "metadata": {
        "id": "RRV4FBBZuWWE"
      }
    },
    {
      "cell_type": "code",
      "source": [
        "num = float(input(\"Enter a number: \"))\n",
        "\n",
        "# Check the number\n",
        "result = \"Positive\" if num > 0 else \"Negative\" if num < 0 else \"Zero\"\n",
        "\n",
        "print(f\"The number is {result}.\")\n"
      ],
      "metadata": {
        "colab": {
          "base_uri": "https://localhost:8080/"
        },
        "id": "KsgOOsK3t97W",
        "outputId": "1a5e4293-e72b-4cb9-dfec-2813c5801fa1"
      },
      "execution_count": 17,
      "outputs": [
        {
          "output_type": "stream",
          "name": "stdout",
          "text": [
            "Enter a number: 20\n",
            "The number is Positive.\n"
          ]
        }
      ]
    },
    {
      "cell_type": "markdown",
      "source": [
        "12. Write a for loop to print numbers from 1 to 10."
      ],
      "metadata": {
        "id": "fbDXwlp3ujms"
      }
    },
    {
      "cell_type": "code",
      "source": [
        "for num in range(1, 11):\n",
        "    print(num)\n"
      ],
      "metadata": {
        "colab": {
          "base_uri": "https://localhost:8080/"
        },
        "id": "3mCJvlTSueVc",
        "outputId": "e00744e8-e24c-4dd0-f48b-777a4284cde0"
      },
      "execution_count": 18,
      "outputs": [
        {
          "output_type": "stream",
          "name": "stdout",
          "text": [
            "1\n",
            "2\n",
            "3\n",
            "4\n",
            "5\n",
            "6\n",
            "7\n",
            "8\n",
            "9\n",
            "10\n"
          ]
        }
      ]
    },
    {
      "cell_type": "markdown",
      "source": [
        "13. . Write a Python program to find the sum of all even numbers between 1 and 50."
      ],
      "metadata": {
        "id": "XgulkPI2utFk"
      }
    },
    {
      "cell_type": "code",
      "source": [
        "sum_even = sum(num for num in range(1, 51) if num % 2 == 0)\n",
        "print(f\"The sum of all even numbers between 1 and 50 is: {sum_even}\")\n"
      ],
      "metadata": {
        "colab": {
          "base_uri": "https://localhost:8080/"
        },
        "id": "DAj2NpbPurWl",
        "outputId": "c0e1baf3-d1ff-43c0-8392-5b236a5c2566"
      },
      "execution_count": 19,
      "outputs": [
        {
          "output_type": "stream",
          "name": "stdout",
          "text": [
            "The sum of all even numbers between 1 and 50 is: 650\n"
          ]
        }
      ]
    },
    {
      "cell_type": "markdown",
      "source": [
        "14. Write a program to reverse a string using a while loop."
      ],
      "metadata": {
        "id": "CXX3tp8ru1sr"
      }
    },
    {
      "cell_type": "code",
      "source": [
        "# Input string\n",
        "string = input(\"Enter a string: \")\n",
        "\n",
        "# Initialize variables\n",
        "reversed_string = \"\"\n",
        "index = len(string) - 1\n",
        "\n",
        "# Reverse the string using a while loop\n",
        "while index >= 0:\n",
        "    reversed_string += string[index]\n",
        "    index -= 1\n",
        "\n",
        "print(f\"The reversed string is: {reversed_string}\")\n"
      ],
      "metadata": {
        "colab": {
          "base_uri": "https://localhost:8080/"
        },
        "id": "yNGqr3Z7u0Fk",
        "outputId": "55f299c0-3da0-4404-9cd3-a934b2f8ac28"
      },
      "execution_count": 20,
      "outputs": [
        {
          "output_type": "stream",
          "name": "stdout",
          "text": [
            "Enter a string: uttam\n",
            "The reversed string is: mattu\n"
          ]
        }
      ]
    },
    {
      "cell_type": "markdown",
      "source": [
        "15. Write a Python program to calculate the factorial of a number provided by the user using a while loop."
      ],
      "metadata": {
        "id": "VnEUxJlLu_Bt"
      }
    },
    {
      "cell_type": "code",
      "source": [
        "# Input number\n",
        "num = int(input(\"Enter a number: \"))\n",
        "\n",
        "# Initialize factorial result\n",
        "factorial = 1\n",
        "\n",
        "# Calculate factorial using a while loop\n",
        "while num > 1:\n",
        "    factorial *= num\n",
        "    num -= 1\n",
        "\n",
        "print(f\"The factorial is: {factorial}\")\n"
      ],
      "metadata": {
        "colab": {
          "base_uri": "https://localhost:8080/"
        },
        "id": "roGDCzhau7dc",
        "outputId": "74ef5a02-e08b-4230-fb75-c8937bb2ed79"
      },
      "execution_count": 21,
      "outputs": [
        {
          "output_type": "stream",
          "name": "stdout",
          "text": [
            "Enter a number: 56\n",
            "The factorial is: 710998587804863451854045647463724949736497978881168458687447040000000000000\n"
          ]
        }
      ]
    },
    {
      "cell_type": "code",
      "source": [],
      "metadata": {
        "id": "Loj2zn4yvGbr"
      },
      "execution_count": null,
      "outputs": []
    }
  ]
}